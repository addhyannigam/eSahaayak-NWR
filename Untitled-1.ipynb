{
 "cells": [
  {
   "cell_type": "code",
   "execution_count": 3,
   "id": "9c5e0fb2",
   "metadata": {},
   "outputs": [
    {
     "name": "stdout",
     "output_type": "stream",
     "text": [
      "/home/addy/AIML-projects/eSahaayak-NWR\n"
     ]
    }
   ],
   "source": [
    "import pandas as pd\n",
    "import os\n",
    "print(os.getcwd())  # Shows your current working directory\n"
   ]
  },
  {
   "cell_type": "code",
   "execution_count": 4,
   "id": "f8f50962",
   "metadata": {},
   "outputs": [],
   "source": [
    "data = pd.read_excel(\"Hq office HRMS data.xlsx\")"
   ]
  },
  {
   "cell_type": "code",
   "execution_count": 5,
   "id": "45d4bfe0",
   "metadata": {},
   "outputs": [
    {
     "data": {
      "text/html": [
       "<div>\n",
       "<style scoped>\n",
       "    .dataframe tbody tr th:only-of-type {\n",
       "        vertical-align: middle;\n",
       "    }\n",
       "\n",
       "    .dataframe tbody tr th {\n",
       "        vertical-align: top;\n",
       "    }\n",
       "\n",
       "    .dataframe thead th {\n",
       "        text-align: right;\n",
       "    }\n",
       "</style>\n",
       "<table border=\"1\" class=\"dataframe\">\n",
       "  <thead>\n",
       "    <tr style=\"text-align: right;\">\n",
       "      <th></th>\n",
       "      <th>S.No</th>\n",
       "      <th>HRMS ID</th>\n",
       "      <th>Name</th>\n",
       "    </tr>\n",
       "  </thead>\n",
       "  <tbody>\n",
       "    <tr>\n",
       "      <th>0</th>\n",
       "      <td>1</td>\n",
       "      <td>DWYYKX</td>\n",
       "      <td>KASHIRAM MEENA</td>\n",
       "    </tr>\n",
       "    <tr>\n",
       "      <th>1</th>\n",
       "      <td>2</td>\n",
       "      <td>YBCWFU</td>\n",
       "      <td>RAM SWAROOP JATAV</td>\n",
       "    </tr>\n",
       "    <tr>\n",
       "      <th>2</th>\n",
       "      <td>3</td>\n",
       "      <td>AFFXPG</td>\n",
       "      <td>RAJENDRA KUMAR JAJORIA</td>\n",
       "    </tr>\n",
       "    <tr>\n",
       "      <th>3</th>\n",
       "      <td>4</td>\n",
       "      <td>DPJXFL</td>\n",
       "      <td>SAMIT PRATAP SINGH</td>\n",
       "    </tr>\n",
       "    <tr>\n",
       "      <th>4</th>\n",
       "      <td>5</td>\n",
       "      <td>BLWBPF</td>\n",
       "      <td>OM PRAKASH MEENA</td>\n",
       "    </tr>\n",
       "  </tbody>\n",
       "</table>\n",
       "</div>"
      ],
      "text/plain": [
       "   S.No HRMS ID                    Name\n",
       "0     1  DWYYKX          KASHIRAM MEENA\n",
       "1     2  YBCWFU       RAM SWAROOP JATAV\n",
       "2     3  AFFXPG  RAJENDRA KUMAR JAJORIA\n",
       "3     4  DPJXFL      SAMIT PRATAP SINGH\n",
       "4     5  BLWBPF        OM PRAKASH MEENA"
      ]
     },
     "execution_count": 5,
     "metadata": {},
     "output_type": "execute_result"
    }
   ],
   "source": [
    "data.head()"
   ]
  },
  {
   "cell_type": "code",
   "execution_count": 6,
   "id": "9985f6f5",
   "metadata": {},
   "outputs": [
    {
     "data": {
      "text/plain": [
       "(1553, 3)"
      ]
     },
     "execution_count": 6,
     "metadata": {},
     "output_type": "execute_result"
    }
   ],
   "source": [
    "data.shape"
   ]
  },
  {
   "cell_type": "code",
   "execution_count": 7,
   "id": "d5a15933",
   "metadata": {},
   "outputs": [
    {
     "name": "stdout",
     "output_type": "stream",
     "text": [
      "✅ HRMS IDs saved to 'hrms_ids.csv'\n"
     ]
    }
   ],
   "source": [
    "import pandas as pd\n",
    "\n",
    "# Load the Excel file\n",
    "df = pd.read_excel(\"Hq office HRMS data.xlsx\", sheet_name=None)  # Load all sheets\n",
    "\n",
    "# Initialize empty list to collect HRMS IDs\n",
    "hrms_ids = []\n",
    "\n",
    "# Iterate over each sheet and extract 'HRMS ID' column if it exists\n",
    "for sheet_name, data in df.items():\n",
    "    if 'HRMS ID' in data.columns:\n",
    "        ids = data['HRMS ID'].dropna().astype(str).tolist()\n",
    "        hrms_ids.extend(ids)\n",
    "\n",
    "# Remove duplicates\n",
    "hrms_ids = list(set(hrms_ids))\n",
    "\n",
    "# Save to CSV\n",
    "hrms_df = pd.DataFrame({\"HRMS ID\": hrms_ids})\n",
    "hrms_df.to_csv(\"hrms_ids.csv\", index=False)\n",
    "\n",
    "print(\"✅ HRMS IDs saved to 'hrms_ids.csv'\")\n"
   ]
  },
  {
   "cell_type": "code",
   "execution_count": null,
   "id": "7c1146c4",
   "metadata": {},
   "outputs": [
    {
     "data": {
      "text/plain": [
       "<generator object DataFrame.items at 0x72be78b8f7d0>"
      ]
     },
     "execution_count": 8,
     "metadata": {},
     "output_type": "execute_result"
    }
   ],
   "source": []
  },
  {
   "cell_type": "code",
   "execution_count": null,
   "id": "838608e7",
   "metadata": {},
   "outputs": [],
   "source": []
  }
 ],
 "metadata": {
  "kernelspec": {
   "display_name": ".venv",
   "language": "python",
   "name": "python3"
  },
  "language_info": {
   "codemirror_mode": {
    "name": "ipython",
    "version": 3
   },
   "file_extension": ".py",
   "mimetype": "text/x-python",
   "name": "python",
   "nbconvert_exporter": "python",
   "pygments_lexer": "ipython3",
   "version": "3.10.12"
  }
 },
 "nbformat": 4,
 "nbformat_minor": 5
}
